{
 "cells": [
  {
   "cell_type": "markdown",
   "id": "ecc87977",
   "metadata": {},
   "source": [
    "# Libraries"
   ]
  },
  {
   "cell_type": "code",
   "execution_count": 29,
   "id": "9918a84e",
   "metadata": {
    "ExecuteTime": {
     "end_time": "2023-11-30T14:48:45.045300Z",
     "start_time": "2023-11-30T14:48:45.042408Z"
    }
   },
   "outputs": [],
   "source": [
    "import pandas as pd\n",
    "import numpy as np\n",
    "import inflection\n",
    "\n",
    "from matplotlib import pyplot as plt\n",
    "from sklearn import preprocessing as pp"
   ]
  },
  {
   "cell_type": "markdown",
   "id": "4d4405f1",
   "metadata": {},
   "source": [
    "# Loading Data"
   ]
  },
  {
   "cell_type": "code",
   "execution_count": 2,
   "id": "38ac6a45",
   "metadata": {
    "ExecuteTime": {
     "end_time": "2023-11-30T13:46:33.469908Z",
     "start_time": "2023-11-30T13:46:33.458560Z"
    }
   },
   "outputs": [
    {
     "data": {
      "text/plain": [
       "'/Users/lucasquemelli/Documents/repos/tesla_stock_price_prediction'"
      ]
     },
     "execution_count": 2,
     "metadata": {},
     "output_type": "execute_result"
    }
   ],
   "source": [
    "pwd"
   ]
  },
  {
   "cell_type": "code",
   "execution_count": 4,
   "id": "a173c080",
   "metadata": {
    "ExecuteTime": {
     "end_time": "2023-11-30T13:59:41.723985Z",
     "start_time": "2023-11-30T13:59:41.686224Z"
    }
   },
   "outputs": [
    {
     "data": {
      "text/html": [
       "<div>\n",
       "<style scoped>\n",
       "    .dataframe tbody tr th:only-of-type {\n",
       "        vertical-align: middle;\n",
       "    }\n",
       "\n",
       "    .dataframe tbody tr th {\n",
       "        vertical-align: top;\n",
       "    }\n",
       "\n",
       "    .dataframe thead th {\n",
       "        text-align: right;\n",
       "    }\n",
       "</style>\n",
       "<table border=\"1\" class=\"dataframe\">\n",
       "  <thead>\n",
       "    <tr style=\"text-align: right;\">\n",
       "      <th></th>\n",
       "      <th>Date</th>\n",
       "      <th>Open</th>\n",
       "      <th>High</th>\n",
       "      <th>Low</th>\n",
       "      <th>Close</th>\n",
       "      <th>Adj Close</th>\n",
       "      <th>Volume</th>\n",
       "    </tr>\n",
       "  </thead>\n",
       "  <tbody>\n",
       "    <tr>\n",
       "      <th>0</th>\n",
       "      <td>2010-06-29</td>\n",
       "      <td>3.800</td>\n",
       "      <td>5.000</td>\n",
       "      <td>3.508</td>\n",
       "      <td>4.778</td>\n",
       "      <td>4.778</td>\n",
       "      <td>93831500</td>\n",
       "    </tr>\n",
       "    <tr>\n",
       "      <th>1</th>\n",
       "      <td>2010-06-30</td>\n",
       "      <td>5.158</td>\n",
       "      <td>6.084</td>\n",
       "      <td>4.660</td>\n",
       "      <td>4.766</td>\n",
       "      <td>4.766</td>\n",
       "      <td>85935500</td>\n",
       "    </tr>\n",
       "    <tr>\n",
       "      <th>2</th>\n",
       "      <td>2010-07-01</td>\n",
       "      <td>5.000</td>\n",
       "      <td>5.184</td>\n",
       "      <td>4.054</td>\n",
       "      <td>4.392</td>\n",
       "      <td>4.392</td>\n",
       "      <td>41094000</td>\n",
       "    </tr>\n",
       "    <tr>\n",
       "      <th>3</th>\n",
       "      <td>2010-07-02</td>\n",
       "      <td>4.600</td>\n",
       "      <td>4.620</td>\n",
       "      <td>3.742</td>\n",
       "      <td>3.840</td>\n",
       "      <td>3.840</td>\n",
       "      <td>25699000</td>\n",
       "    </tr>\n",
       "    <tr>\n",
       "      <th>4</th>\n",
       "      <td>2010-07-06</td>\n",
       "      <td>4.000</td>\n",
       "      <td>4.000</td>\n",
       "      <td>3.166</td>\n",
       "      <td>3.222</td>\n",
       "      <td>3.222</td>\n",
       "      <td>34334500</td>\n",
       "    </tr>\n",
       "  </tbody>\n",
       "</table>\n",
       "</div>"
      ],
      "text/plain": [
       "         Date   Open   High    Low  Close  Adj Close    Volume\n",
       "0  2010-06-29  3.800  5.000  3.508  4.778      4.778  93831500\n",
       "1  2010-06-30  5.158  6.084  4.660  4.766      4.766  85935500\n",
       "2  2010-07-01  5.000  5.184  4.054  4.392      4.392  41094000\n",
       "3  2010-07-02  4.600  4.620  3.742  3.840      3.840  25699000\n",
       "4  2010-07-06  4.000  4.000  3.166  3.222      3.222  34334500"
      ]
     },
     "execution_count": 4,
     "metadata": {},
     "output_type": "execute_result"
    }
   ],
   "source": [
    "data = pd.read_csv(\"/Users/lucasquemelli/Documents/repos/tesla_stock_price_prediction/TSLA.csv\")\n",
    "data.head()"
   ]
  },
  {
   "cell_type": "code",
   "execution_count": 7,
   "id": "990ff60a",
   "metadata": {
    "ExecuteTime": {
     "end_time": "2023-11-30T14:00:22.025391Z",
     "start_time": "2023-11-30T14:00:22.020138Z"
    }
   },
   "outputs": [],
   "source": [
    "cols_old = data.columns\n",
    "\n",
    "snake_case = lambda x: inflection.underscore(x)\n",
    "\n",
    "cols_new = list(map(snake_case, cols_old))\n",
    "\n",
    "data.columns = cols_new\n",
    "\n",
    "data.rename(columns={\"adj close\": \"adj_close\"}, inplace=True)"
   ]
  },
  {
   "cell_type": "code",
   "execution_count": 8,
   "id": "51c63415",
   "metadata": {
    "ExecuteTime": {
     "end_time": "2023-11-30T14:00:34.491046Z",
     "start_time": "2023-11-30T14:00:34.486492Z"
    }
   },
   "outputs": [
    {
     "data": {
      "text/plain": [
       "Index(['date', 'open', 'high', 'low', 'close', 'adj_close', 'volume'], dtype='object')"
      ]
     },
     "execution_count": 8,
     "metadata": {},
     "output_type": "execute_result"
    }
   ],
   "source": [
    "data.columns"
   ]
  },
  {
   "cell_type": "markdown",
   "id": "8b738037",
   "metadata": {},
   "source": [
    "# Deduplication Test"
   ]
  },
  {
   "cell_type": "markdown",
   "id": "6609cc6b",
   "metadata": {},
   "source": [
    "Since this analysis should be at date level, would it be affordable to have more rows than dates?"
   ]
  },
  {
   "cell_type": "code",
   "execution_count": 9,
   "id": "1410b4f4",
   "metadata": {
    "ExecuteTime": {
     "end_time": "2023-11-30T14:16:48.414219Z",
     "start_time": "2023-11-30T14:16:48.401938Z"
    }
   },
   "outputs": [
    {
     "data": {
      "text/plain": [
       "2956"
      ]
     },
     "execution_count": 9,
     "metadata": {},
     "output_type": "execute_result"
    }
   ],
   "source": [
    "data[\"date\"].nunique()"
   ]
  },
  {
   "cell_type": "code",
   "execution_count": 10,
   "id": "ca7ef763",
   "metadata": {
    "ExecuteTime": {
     "end_time": "2023-11-30T14:16:57.810810Z",
     "start_time": "2023-11-30T14:16:57.806828Z"
    }
   },
   "outputs": [
    {
     "data": {
      "text/plain": [
       "2956"
      ]
     },
     "execution_count": 10,
     "metadata": {},
     "output_type": "execute_result"
    }
   ],
   "source": [
    "data.shape[0]"
   ]
  },
  {
   "cell_type": "markdown",
   "id": "282ff858",
   "metadata": {},
   "source": [
    "Since we cannot use data from a far past to predict stock price of the next month or week, we used only data from the last 8 years. Each row represents data from each date."
   ]
  },
  {
   "cell_type": "markdown",
   "id": "b0467f03",
   "metadata": {},
   "source": [
    "# Data Description"
   ]
  },
  {
   "cell_type": "code",
   "execution_count": 11,
   "id": "3f2edf82",
   "metadata": {
    "ExecuteTime": {
     "end_time": "2023-11-30T14:18:30.016228Z",
     "start_time": "2023-11-30T14:18:30.004811Z"
    }
   },
   "outputs": [
    {
     "data": {
      "text/plain": [
       "date          object\n",
       "open         float64\n",
       "high         float64\n",
       "low          float64\n",
       "close        float64\n",
       "adj_close    float64\n",
       "volume         int64\n",
       "dtype: object"
      ]
     },
     "execution_count": 11,
     "metadata": {},
     "output_type": "execute_result"
    }
   ],
   "source": [
    "data.dtypes"
   ]
  },
  {
   "cell_type": "code",
   "execution_count": 12,
   "id": "debb3792",
   "metadata": {
    "ExecuteTime": {
     "end_time": "2023-11-30T14:18:38.938304Z",
     "start_time": "2023-11-30T14:18:38.921957Z"
    }
   },
   "outputs": [
    {
     "data": {
      "text/plain": [
       "date         0\n",
       "open         0\n",
       "high         0\n",
       "low          0\n",
       "close        0\n",
       "adj_close    0\n",
       "volume       0\n",
       "dtype: int64"
      ]
     },
     "execution_count": 12,
     "metadata": {},
     "output_type": "execute_result"
    }
   ],
   "source": [
    "data.isna().sum()"
   ]
  },
  {
   "cell_type": "code",
   "execution_count": 13,
   "id": "39cd0149",
   "metadata": {
    "ExecuteTime": {
     "end_time": "2023-11-30T14:18:50.373227Z",
     "start_time": "2023-11-30T14:18:50.361875Z"
    }
   },
   "outputs": [],
   "source": [
    "data[\"date\"] = pd.to_datetime(data[\"date\"])"
   ]
  },
  {
   "cell_type": "code",
   "execution_count": 14,
   "id": "f8903ffa",
   "metadata": {
    "ExecuteTime": {
     "end_time": "2023-11-30T14:18:58.294108Z",
     "start_time": "2023-11-30T14:18:58.289244Z"
    }
   },
   "outputs": [
    {
     "data": {
      "text/plain": [
       "date         datetime64[ns]\n",
       "open                float64\n",
       "high                float64\n",
       "low                 float64\n",
       "close               float64\n",
       "adj_close           float64\n",
       "volume                int64\n",
       "dtype: object"
      ]
     },
     "execution_count": 14,
     "metadata": {},
     "output_type": "execute_result"
    }
   ],
   "source": [
    "data.dtypes"
   ]
  },
  {
   "cell_type": "markdown",
   "id": "bec7943b",
   "metadata": {},
   "source": [
    "# Exploratory Data Analysis (EDA)"
   ]
  },
  {
   "cell_type": "code",
   "execution_count": 15,
   "id": "7f32f84f",
   "metadata": {
    "ExecuteTime": {
     "end_time": "2023-11-30T14:19:52.900993Z",
     "start_time": "2023-11-30T14:19:52.876045Z"
    }
   },
   "outputs": [
    {
     "name": "stdout",
     "output_type": "stream",
     "text": [
      "<class 'pandas.core.frame.DataFrame'>\n",
      "RangeIndex: 2956 entries, 0 to 2955\n",
      "Data columns (total 7 columns):\n",
      " #   Column     Non-Null Count  Dtype         \n",
      "---  ------     --------------  -----         \n",
      " 0   date       2956 non-null   datetime64[ns]\n",
      " 1   open       2956 non-null   float64       \n",
      " 2   high       2956 non-null   float64       \n",
      " 3   low        2956 non-null   float64       \n",
      " 4   close      2956 non-null   float64       \n",
      " 5   adj_close  2956 non-null   float64       \n",
      " 6   volume     2956 non-null   int64         \n",
      "dtypes: datetime64[ns](1), float64(5), int64(1)\n",
      "memory usage: 161.8 KB\n"
     ]
    }
   ],
   "source": [
    "data.info()"
   ]
  },
  {
   "cell_type": "code",
   "execution_count": 22,
   "id": "07a57a91",
   "metadata": {
    "ExecuteTime": {
     "end_time": "2023-11-30T14:28:19.425167Z",
     "start_time": "2023-11-30T14:28:19.400123Z"
    }
   },
   "outputs": [
    {
     "data": {
      "text/html": [
       "<div>\n",
       "<style scoped>\n",
       "    .dataframe tbody tr th:only-of-type {\n",
       "        vertical-align: middle;\n",
       "    }\n",
       "\n",
       "    .dataframe tbody tr th {\n",
       "        vertical-align: top;\n",
       "    }\n",
       "\n",
       "    .dataframe thead th {\n",
       "        text-align: right;\n",
       "    }\n",
       "</style>\n",
       "<table border=\"1\" class=\"dataframe\">\n",
       "  <thead>\n",
       "    <tr style=\"text-align: right;\">\n",
       "      <th></th>\n",
       "      <th>count</th>\n",
       "      <th>mean</th>\n",
       "      <th>std</th>\n",
       "      <th>min</th>\n",
       "      <th>25%</th>\n",
       "      <th>50%</th>\n",
       "      <th>75%</th>\n",
       "      <th>max</th>\n",
       "    </tr>\n",
       "  </thead>\n",
       "  <tbody>\n",
       "    <tr>\n",
       "      <th>open</th>\n",
       "      <td>2956.0</td>\n",
       "      <td>1.386913e+02</td>\n",
       "      <td>2.500448e+02</td>\n",
       "      <td>3.228</td>\n",
       "      <td>1.962700e+01</td>\n",
       "      <td>4.665700e+01</td>\n",
       "      <td>6.805700e+01</td>\n",
       "      <td>1.234410e+03</td>\n",
       "    </tr>\n",
       "    <tr>\n",
       "      <th>high</th>\n",
       "      <td>2956.0</td>\n",
       "      <td>1.417716e+02</td>\n",
       "      <td>2.558632e+02</td>\n",
       "      <td>3.326</td>\n",
       "      <td>2.040200e+01</td>\n",
       "      <td>4.748700e+01</td>\n",
       "      <td>6.935750e+01</td>\n",
       "      <td>1.243490e+03</td>\n",
       "    </tr>\n",
       "    <tr>\n",
       "      <th>low</th>\n",
       "      <td>2956.0</td>\n",
       "      <td>1.354260e+02</td>\n",
       "      <td>2.437742e+02</td>\n",
       "      <td>2.996</td>\n",
       "      <td>1.912750e+01</td>\n",
       "      <td>4.582000e+01</td>\n",
       "      <td>6.691150e+01</td>\n",
       "      <td>1.217000e+03</td>\n",
       "    </tr>\n",
       "    <tr>\n",
       "      <th>close</th>\n",
       "      <td>2956.0</td>\n",
       "      <td>1.387622e+02</td>\n",
       "      <td>2.501231e+02</td>\n",
       "      <td>3.160</td>\n",
       "      <td>1.961500e+01</td>\n",
       "      <td>4.654500e+01</td>\n",
       "      <td>6.810400e+01</td>\n",
       "      <td>1.229910e+03</td>\n",
       "    </tr>\n",
       "    <tr>\n",
       "      <th>adj_close</th>\n",
       "      <td>2956.0</td>\n",
       "      <td>1.387622e+02</td>\n",
       "      <td>2.501231e+02</td>\n",
       "      <td>3.160</td>\n",
       "      <td>1.961500e+01</td>\n",
       "      <td>4.654500e+01</td>\n",
       "      <td>6.810400e+01</td>\n",
       "      <td>1.229910e+03</td>\n",
       "    </tr>\n",
       "    <tr>\n",
       "      <th>volume</th>\n",
       "      <td>2956.0</td>\n",
       "      <td>3.131449e+07</td>\n",
       "      <td>2.798383e+07</td>\n",
       "      <td>592500.000</td>\n",
       "      <td>1.310288e+07</td>\n",
       "      <td>2.488680e+07</td>\n",
       "      <td>3.973875e+07</td>\n",
       "      <td>3.046940e+08</td>\n",
       "    </tr>\n",
       "  </tbody>\n",
       "</table>\n",
       "</div>"
      ],
      "text/plain": [
       "            count          mean           std         min           25%  \\\n",
       "open       2956.0  1.386913e+02  2.500448e+02       3.228  1.962700e+01   \n",
       "high       2956.0  1.417716e+02  2.558632e+02       3.326  2.040200e+01   \n",
       "low        2956.0  1.354260e+02  2.437742e+02       2.996  1.912750e+01   \n",
       "close      2956.0  1.387622e+02  2.501231e+02       3.160  1.961500e+01   \n",
       "adj_close  2956.0  1.387622e+02  2.501231e+02       3.160  1.961500e+01   \n",
       "volume     2956.0  3.131449e+07  2.798383e+07  592500.000  1.310288e+07   \n",
       "\n",
       "                    50%           75%           max  \n",
       "open       4.665700e+01  6.805700e+01  1.234410e+03  \n",
       "high       4.748700e+01  6.935750e+01  1.243490e+03  \n",
       "low        4.582000e+01  6.691150e+01  1.217000e+03  \n",
       "close      4.654500e+01  6.810400e+01  1.229910e+03  \n",
       "adj_close  4.654500e+01  6.810400e+01  1.229910e+03  \n",
       "volume     2.488680e+07  3.973875e+07  3.046940e+08  "
      ]
     },
     "execution_count": 22,
     "metadata": {},
     "output_type": "execute_result"
    }
   ],
   "source": [
    "data.describe().T"
   ]
  },
  {
   "cell_type": "markdown",
   "id": "b9744105",
   "metadata": {},
   "source": [
    "# High and low prices of Tesla stock"
   ]
  },
  {
   "cell_type": "code",
   "execution_count": 20,
   "id": "fc5dfc7b",
   "metadata": {
    "ExecuteTime": {
     "end_time": "2023-11-30T14:22:26.319258Z",
     "start_time": "2023-11-30T14:22:26.133320Z"
    }
   },
   "outputs": [
    {
     "data": {
      "image/png": "[encoded data removed]",
      "text/plain": [
       "<Figure size 1500x700 with 1 Axes>"
      ]
     },
     "metadata": {},
     "output_type": "display_data"
    }
   ],
   "source": [
    "plt.figure(figsize=(15, 7))\n",
    "\n",
    "plt.plot(data[\"date\"], data[\"high\"], label=\"high\")\n",
    "plt.plot(data[\"date\"], data[\"low\"], label=\"low\")\n",
    "plt.xlabel(\"Date\")\n",
    "plt.ylabel(\"Stock Price (USD)\")\n",
    "plt.legend()\n",
    "plt.gcf().autofmt_xdate()\n",
    "plt.show()"
   ]
  },
  {
   "cell_type": "markdown",
   "id": "1c6628c6",
   "metadata": {},
   "source": [
    "# Open and close prices of Tesla stock"
   ]
  },
  {
   "cell_type": "code",
   "execution_count": 21,
   "id": "4b5f9d2c",
   "metadata": {
    "ExecuteTime": {
     "end_time": "2023-11-30T14:23:31.922496Z",
     "start_time": "2023-11-30T14:23:31.729202Z"
    }
   },
   "outputs": [
    {
     "data": {
      "image/png": "[encoded data removed]",
      "text/plain": [
       "<Figure size 1500x700 with 1 Axes>"
      ]
     },
     "metadata": {},
     "output_type": "display_data"
    }
   ],
   "source": [
    "plt.figure(figsize=(15, 7))\n",
    "\n",
    "plt.plot(data[\"date\"], data[\"open\"], label=\"high\")\n",
    "plt.plot(data[\"date\"], data[\"close\"], label=\"low\")\n",
    "plt.xlabel(\"Date\")\n",
    "plt.ylabel(\"Stock Price (USD)\")\n",
    "plt.legend()\n",
    "plt.gcf().autofmt_xdate()\n",
    "plt.show()"
   ]
  },
  {
   "cell_type": "markdown",
   "id": "7b58362f",
   "metadata": {},
   "source": [
    "# Libraries for Stock Prediction"
   ]
  },
  {
   "cell_type": "code",
   "execution_count": 23,
   "id": "25d8503a",
   "metadata": {
    "ExecuteTime": {
     "end_time": "2023-11-30T14:38:08.662785Z",
     "start_time": "2023-11-30T14:38:01.227867Z"
    }
   },
   "outputs": [],
   "source": [
    "from statsmodels.tsa.stattools import adfuller\n",
    "from pmdarima import auto_arima\n",
    "from statsmodels.tsa.arima_model import ARIMA\n",
    "from sklearn.metrics import mean_squared_error"
   ]
  },
  {
   "cell_type": "markdown",
   "id": "b6231e86",
   "metadata": {},
   "source": [
    "# Check stationary data"
   ]
  },
  {
   "cell_type": "code",
   "execution_count": 24,
   "id": "fd5e62dd",
   "metadata": {
    "ExecuteTime": {
     "end_time": "2023-11-30T14:38:56.712562Z",
     "start_time": "2023-11-30T14:38:56.698948Z"
    }
   },
   "outputs": [
    {
     "data": {
      "text/html": [
       "<div>\n",
       "<style scoped>\n",
       "    .dataframe tbody tr th:only-of-type {\n",
       "        vertical-align: middle;\n",
       "    }\n",
       "\n",
       "    .dataframe tbody tr th {\n",
       "        vertical-align: top;\n",
       "    }\n",
       "\n",
       "    .dataframe thead th {\n",
       "        text-align: right;\n",
       "    }\n",
       "</style>\n",
       "<table border=\"1\" class=\"dataframe\">\n",
       "  <thead>\n",
       "    <tr style=\"text-align: right;\">\n",
       "      <th></th>\n",
       "      <th>date</th>\n",
       "      <th>open</th>\n",
       "      <th>high</th>\n",
       "      <th>low</th>\n",
       "      <th>close</th>\n",
       "      <th>adj_close</th>\n",
       "      <th>volume</th>\n",
       "    </tr>\n",
       "  </thead>\n",
       "  <tbody>\n",
       "    <tr>\n",
       "      <th>0</th>\n",
       "      <td>2010-06-29</td>\n",
       "      <td>3.800</td>\n",
       "      <td>5.000</td>\n",
       "      <td>3.508</td>\n",
       "      <td>4.778</td>\n",
       "      <td>4.778</td>\n",
       "      <td>93831500</td>\n",
       "    </tr>\n",
       "    <tr>\n",
       "      <th>1</th>\n",
       "      <td>2010-06-30</td>\n",
       "      <td>5.158</td>\n",
       "      <td>6.084</td>\n",
       "      <td>4.660</td>\n",
       "      <td>4.766</td>\n",
       "      <td>4.766</td>\n",
       "      <td>85935500</td>\n",
       "    </tr>\n",
       "    <tr>\n",
       "      <th>2</th>\n",
       "      <td>2010-07-01</td>\n",
       "      <td>5.000</td>\n",
       "      <td>5.184</td>\n",
       "      <td>4.054</td>\n",
       "      <td>4.392</td>\n",
       "      <td>4.392</td>\n",
       "      <td>41094000</td>\n",
       "    </tr>\n",
       "    <tr>\n",
       "      <th>3</th>\n",
       "      <td>2010-07-02</td>\n",
       "      <td>4.600</td>\n",
       "      <td>4.620</td>\n",
       "      <td>3.742</td>\n",
       "      <td>3.840</td>\n",
       "      <td>3.840</td>\n",
       "      <td>25699000</td>\n",
       "    </tr>\n",
       "    <tr>\n",
       "      <th>4</th>\n",
       "      <td>2010-07-06</td>\n",
       "      <td>4.000</td>\n",
       "      <td>4.000</td>\n",
       "      <td>3.166</td>\n",
       "      <td>3.222</td>\n",
       "      <td>3.222</td>\n",
       "      <td>34334500</td>\n",
       "    </tr>\n",
       "  </tbody>\n",
       "</table>\n",
       "</div>"
      ],
      "text/plain": [
       "        date   open   high    low  close  adj_close    volume\n",
       "0 2010-06-29  3.800  5.000  3.508  4.778      4.778  93831500\n",
       "1 2010-06-30  5.158  6.084  4.660  4.766      4.766  85935500\n",
       "2 2010-07-01  5.000  5.184  4.054  4.392      4.392  41094000\n",
       "3 2010-07-02  4.600  4.620  3.742  3.840      3.840  25699000\n",
       "4 2010-07-06  4.000  4.000  3.166  3.222      3.222  34334500"
      ]
     },
     "execution_count": 24,
     "metadata": {},
     "output_type": "execute_result"
    }
   ],
   "source": [
    "data.head()"
   ]
  },
  {
   "cell_type": "code",
   "execution_count": 26,
   "id": "d673d593",
   "metadata": {
    "ExecuteTime": {
     "end_time": "2023-11-30T14:40:59.615463Z",
     "start_time": "2023-11-30T14:40:59.514707Z"
    }
   },
   "outputs": [
    {
     "name": "stdout",
     "output_type": "stream",
     "text": [
      "Data is non-stationary: 0.9972202364261444.\n"
     ]
    }
   ],
   "source": [
    "def check_stationarity(data):\n",
    "    result = adfuller(data)\n",
    "    p_value = result[1]\n",
    "    return p_value\n",
    "\n",
    "closing_price = data['close']\n",
    "\n",
    "# Check for stationarity\n",
    "p_value = check_stationarity(closing_price)\n",
    "\n",
    "# If p-value is less than 0.05, data is stationary\n",
    "if p_value < 0.05:\n",
    "    print(f\"Data is stationary: {p_value}.\")\n",
    "else:\n",
    "    print(f\"Data is non-stationary: {p_value}.\")\n"
   ]
  },
  {
   "cell_type": "markdown",
   "id": "669fa5a9",
   "metadata": {},
   "source": [
    "# Data Preprocessing"
   ]
  },
  {
   "cell_type": "code",
   "execution_count": 27,
   "id": "233e8ff5",
   "metadata": {
    "ExecuteTime": {
     "end_time": "2023-11-30T14:48:11.487327Z",
     "start_time": "2023-11-30T14:48:11.482835Z"
    }
   },
   "outputs": [],
   "source": [
    "# Selecting the target variable \"close\" from the 'data' DataFrame\n",
    "target_y = data[\"close\"]\n",
    "\n",
    "# Selecting the first three columns of the 'data' DataFrame as features\n",
    "data = data.iloc[:, 0:3]"
   ]
  },
  {
   "cell_type": "code",
   "execution_count": 30,
   "id": "3efbe5e6",
   "metadata": {
    "ExecuteTime": {
     "end_time": "2023-11-30T14:48:50.113471Z",
     "start_time": "2023-11-30T14:48:50.104948Z"
    }
   },
   "outputs": [],
   "source": [
    "# Feature scaling using StandardScaler from the preprocessing module\n",
    "sc = pp.StandardScaler()\n",
    "\n",
    "# Scaling the features in 'x_feat' using the StandardScaler\n",
    "data[\"open\"] = sc.fit_transform(data[[\"open\"]].values)\n",
    "data[\"high\"] = sc.fit_transform(data[[\"high\"]].values)\n",
    "\n",
    "target_y = sc.fit_transform(target_y.values.reshape(-1, 1))\n",
    "\n",
    "# into DataFrame\n",
    "data = pd.DataFrame(columns=data.columns,\n",
    "                      data=data,\n",
    "                      index=data.index)"
   ]
  },
  {
   "cell_type": "code",
   "execution_count": 31,
   "id": "c7cb65af",
   "metadata": {
    "ExecuteTime": {
     "end_time": "2023-11-30T14:48:51.158433Z",
     "start_time": "2023-11-30T14:48:51.143373Z"
    }
   },
   "outputs": [
    {
     "data": {
      "text/html": [
       "<div>\n",
       "<style scoped>\n",
       "    .dataframe tbody tr th:only-of-type {\n",
       "        vertical-align: middle;\n",
       "    }\n",
       "\n",
       "    .dataframe tbody tr th {\n",
       "        vertical-align: top;\n",
       "    }\n",
       "\n",
       "    .dataframe thead th {\n",
       "        text-align: right;\n",
       "    }\n",
       "</style>\n",
       "<table border=\"1\" class=\"dataframe\">\n",
       "  <thead>\n",
       "    <tr style=\"text-align: right;\">\n",
       "      <th></th>\n",
       "      <th>open</th>\n",
       "      <th>high</th>\n",
       "      <th>target</th>\n",
       "      <th>year</th>\n",
       "      <th>month</th>\n",
       "      <th>day</th>\n",
       "    </tr>\n",
       "  </thead>\n",
       "  <tbody>\n",
       "    <tr>\n",
       "      <th>0</th>\n",
       "      <td>-0.539560</td>\n",
       "      <td>-0.534640</td>\n",
       "      <td>-0.535764</td>\n",
       "      <td>2010</td>\n",
       "      <td>6</td>\n",
       "      <td>29</td>\n",
       "    </tr>\n",
       "    <tr>\n",
       "      <th>1</th>\n",
       "      <td>-0.534128</td>\n",
       "      <td>-0.530403</td>\n",
       "      <td>-0.535812</td>\n",
       "      <td>2010</td>\n",
       "      <td>6</td>\n",
       "      <td>30</td>\n",
       "    </tr>\n",
       "    <tr>\n",
       "      <th>2</th>\n",
       "      <td>-0.534760</td>\n",
       "      <td>-0.533921</td>\n",
       "      <td>-0.537307</td>\n",
       "      <td>2010</td>\n",
       "      <td>7</td>\n",
       "      <td>1</td>\n",
       "    </tr>\n",
       "    <tr>\n",
       "      <th>3</th>\n",
       "      <td>-0.536360</td>\n",
       "      <td>-0.536126</td>\n",
       "      <td>-0.539514</td>\n",
       "      <td>2010</td>\n",
       "      <td>7</td>\n",
       "      <td>2</td>\n",
       "    </tr>\n",
       "    <tr>\n",
       "      <th>4</th>\n",
       "      <td>-0.538760</td>\n",
       "      <td>-0.538549</td>\n",
       "      <td>-0.541986</td>\n",
       "      <td>2010</td>\n",
       "      <td>7</td>\n",
       "      <td>6</td>\n",
       "    </tr>\n",
       "  </tbody>\n",
       "</table>\n",
       "</div>"
      ],
      "text/plain": [
       "       open      high    target  year  month  day\n",
       "0 -0.539560 -0.534640 -0.535764  2010      6   29\n",
       "1 -0.534128 -0.530403 -0.535812  2010      6   30\n",
       "2 -0.534760 -0.533921 -0.537307  2010      7    1\n",
       "3 -0.536360 -0.536126 -0.539514  2010      7    2\n",
       "4 -0.538760 -0.538549 -0.541986  2010      7    6"
      ]
     },
     "execution_count": 31,
     "metadata": {},
     "output_type": "execute_result"
    }
   ],
   "source": [
    "df = pd.concat([data, pd.DataFrame(target_y, columns=['target_y'])], axis=1)\n",
    "df.rename(columns={\"target_y\": \"target\"}, inplace=True)\n",
    "\n",
    "df[\"year\"] = df[\"date\"].dt.year\n",
    "df[\"month\"] = df[\"date\"].dt.month\n",
    "df[\"day\"] = df[\"date\"].dt.day\n",
    "\n",
    "df.drop(columns=[\"date\"], inplace=True)\n",
    "\n",
    "df.head()"
   ]
  },
  {
   "cell_type": "markdown",
   "id": "a11f7854",
   "metadata": {},
   "source": [
    "# Train-Test Split"
   ]
  },
  {
   "cell_type": "code",
   "execution_count": 32,
   "id": "52c4b16a",
   "metadata": {
    "ExecuteTime": {
     "end_time": "2023-11-30T14:50:21.403115Z",
     "start_time": "2023-11-30T14:50:21.400191Z"
    }
   },
   "outputs": [],
   "source": [
    "# Assuming we want to use 80% of the data for training\n",
    "train_size = int(len(closing_price) * 0.8)\n",
    "train, test = closing_price[:train_size], closing_price[train_size:]"
   ]
  },
  {
   "cell_type": "markdown",
   "id": "9ad132eb",
   "metadata": {},
   "source": [
    "# Auto-ARIMA for Optimal Parameters"
   ]
  },
  {
   "cell_type": "code",
   "execution_count": 33,
   "id": "1dfafb3e",
   "metadata": {
    "ExecuteTime": {
     "end_time": "2023-11-30T14:50:53.307634Z",
     "start_time": "2023-11-30T14:50:52.466148Z"
    }
   },
   "outputs": [
    {
     "name": "stdout",
     "output_type": "stream",
     "text": [
      "Performing stepwise search to minimize aic\n",
      " ARIMA(2,1,2)(0,0,0)[0] intercept   : AIC=7754.044, Time=0.30 sec\n",
      " ARIMA(0,1,0)(0,0,0)[0] intercept   : AIC=7746.116, Time=0.04 sec\n",
      " ARIMA(1,1,0)(0,0,0)[0] intercept   : AIC=7748.055, Time=0.09 sec\n"
     ]
    },
    {
     "name": "stderr",
     "output_type": "stream",
     "text": [
      "/opt/anaconda3/lib/python3.9/site-packages/statsmodels/tsa/statespace/sarimax.py:1899: RuntimeWarning: invalid value encountered in reciprocal\n",
      "  return np.roots(self.polynomial_reduced_ar)**-1\n",
      "/opt/anaconda3/lib/python3.9/site-packages/statsmodels/tsa/statespace/sarimax.py:1906: RuntimeWarning: invalid value encountered in reciprocal\n",
      "  return np.roots(self.polynomial_reduced_ma)**-1\n"
     ]
    },
    {
     "name": "stdout",
     "output_type": "stream",
     "text": [
      " ARIMA(0,1,1)(0,0,0)[0] intercept   : AIC=7748.055, Time=0.13 sec\n",
      " ARIMA(0,1,0)(0,0,0)[0]             : AIC=7745.293, Time=0.04 sec\n",
      " ARIMA(1,1,1)(0,0,0)[0] intercept   : AIC=7750.055, Time=0.22 sec\n",
      "\n",
      "Best model:  ARIMA(0,1,0)(0,0,0)[0]          \n",
      "Total fit time: 0.835 seconds\n"
     ]
    },
    {
     "name": "stderr",
     "output_type": "stream",
     "text": [
      "/opt/anaconda3/lib/python3.9/site-packages/statsmodels/tsa/statespace/sarimax.py:1899: RuntimeWarning: invalid value encountered in reciprocal\n",
      "  return np.roots(self.polynomial_reduced_ar)**-1\n",
      "/opt/anaconda3/lib/python3.9/site-packages/statsmodels/tsa/statespace/sarimax.py:1906: RuntimeWarning: invalid value encountered in reciprocal\n",
      "  return np.roots(self.polynomial_reduced_ma)**-1\n"
     ]
    }
   ],
   "source": [
    "# Use auto_arima to find optimal parameters\n",
    "arima_model = auto_arima(train, trace=True, error_action='ignore', suppress_warnings=True)"
   ]
  },
  {
   "cell_type": "markdown",
   "id": "ad11f4f7",
   "metadata": {},
   "source": [
    "# Train ARIMA Model"
   ]
  },
  {
   "cell_type": "code",
   "execution_count": 37,
   "id": "cce861be",
   "metadata": {
    "ExecuteTime": {
     "end_time": "2023-11-30T14:53:21.989188Z",
     "start_time": "2023-11-30T14:53:21.932435Z"
    }
   },
   "outputs": [],
   "source": [
    "from statsmodels.tsa.arima.model import ARIMA\n",
    "\n",
    "# Fit ARIMA model with optimal parameters on the training set\n",
    "model = ARIMA(train, order=arima_model.order)\n",
    "fitted_model = model.fit()"
   ]
  },
  {
   "cell_type": "markdown",
   "id": "34886826",
   "metadata": {},
   "source": [
    "# Prediction"
   ]
  },
  {
   "cell_type": "code",
   "execution_count": 42,
   "id": "001e8bc9",
   "metadata": {
    "ExecuteTime": {
     "end_time": "2023-11-30T14:55:29.648287Z",
     "start_time": "2023-11-30T14:55:29.625859Z"
    }
   },
   "outputs": [],
   "source": [
    "# Predict on the test set\n",
    "predictions = fitted_model.forecast(steps=len(test))"
   ]
  },
  {
   "cell_type": "code",
   "execution_count": 43,
   "id": "7ed32e5a",
   "metadata": {
    "ExecuteTime": {
     "end_time": "2023-11-30T14:55:59.500179Z",
     "start_time": "2023-11-30T14:55:59.494614Z"
    }
   },
   "outputs": [
    {
     "data": {
      "text/plain": [
       "2364    70.433998\n",
       "2365    70.433998\n",
       "2366    70.433998\n",
       "2367    70.433998\n",
       "2368    70.433998\n",
       "          ...    \n",
       "2951    70.433998\n",
       "2952    70.433998\n",
       "2953    70.433998\n",
       "2954    70.433998\n",
       "2955    70.433998\n",
       "Name: predicted_mean, Length: 592, dtype: float64"
      ]
     },
     "execution_count": 43,
     "metadata": {},
     "output_type": "execute_result"
    }
   ],
   "source": [
    "predictions"
   ]
  },
  {
   "cell_type": "code",
   "execution_count": 44,
   "id": "43cf5e68",
   "metadata": {
    "ExecuteTime": {
     "end_time": "2023-11-30T14:56:06.939472Z",
     "start_time": "2023-11-30T14:56:06.934425Z"
    }
   },
   "outputs": [
    {
     "data": {
      "text/plain": [
       "2364      69.998001\n",
       "2365      71.903999\n",
       "2366      70.444000\n",
       "2367      70.966003\n",
       "2368      66.608002\n",
       "           ...     \n",
       "2951     905.390015\n",
       "2952     921.159973\n",
       "2953     993.979980\n",
       "2954     999.109985\n",
       "2955    1013.919983\n",
       "Name: close, Length: 592, dtype: float64"
      ]
     },
     "execution_count": 44,
     "metadata": {},
     "output_type": "execute_result"
    }
   ],
   "source": [
    "test"
   ]
  },
  {
   "cell_type": "code",
   "execution_count": 45,
   "id": "01ca5ce5",
   "metadata": {
    "ExecuteTime": {
     "end_time": "2023-11-30T14:56:36.102369Z",
     "start_time": "2023-11-30T14:56:35.967297Z"
    }
   },
   "outputs": [
    {
     "name": "stdout",
     "output_type": "stream",
     "text": [
      "Mean Squared Error: 328854.2352808474\n"
     ]
    },
    {
     "data": {
      "image/png": "[encoded data removed]",
      "text/plain": [
       "<Figure size 640x480 with 1 Axes>"
      ]
     },
     "metadata": {},
     "output_type": "display_data"
    }
   ],
   "source": [
    "# Calculate Mean Squared Error\n",
    "mse = mean_squared_error(test, predictions)\n",
    "print(f\"Mean Squared Error: {mse}\")\n",
    "\n",
    "# Plotting actual vs predicted values\n",
    "plt.plot(test.index, test, label='Actual')\n",
    "plt.plot(test.index, predictions, label='Predicted')\n",
    "plt.legend()\n",
    "plt.show()"
   ]
  },
  {
   "cell_type": "markdown",
   "id": "02ee6283",
   "metadata": {},
   "source": [
    "- It seems ARIMA is not a good model to predict TESLA stock price.\n",
    "- It may have happened since data is non-stationary.\n",
    "- ARIMA only works for stationary data.\n",
    "- Next step is to use LSTM model."
   ]
  },
  {
   "cell_type": "markdown",
   "id": "99d354fa",
   "metadata": {},
   "source": [
    "# LSTM train and test split"
   ]
  },
  {
   "cell_type": "markdown",
   "id": "9a36ad51",
   "metadata": {},
   "source": [
    "So, the next step would be to split it into training and testing sets. The training of an LSTM model requires a window or a timestep of data in each training step. For instance, the LSTM will take 10 data samples to predict the 10th one by weighing the first nine input samples in one step. So, we need a different approach than the train_test_split provided by scikit-learn.\n",
    "\n",
    "Let’s define a splitting function called lstm_split() which will make windows of size “n_steps” starting from the first sample of data and ending at n_steps’th sample (if n_steps=10, then the 10th sample) from the end. We understand the latter part because, for each time step, LSTM will take n_steps-1 samples for training and predict the last sample. Loss calculation is done based on the error in this prediction. So if n_steps=10, you cannot use the last 9 samples to predict anything because the “10th” data point for the current step does not exist in the dataset.\n",
    "\n",
    "The function below takes the entire data and creates windows of size n_steps starting from the beginning. The target y will contain the target value corresponding to the n_steps’th index. So if n_steps is 10, the first element in X will have features from 10 data samples, and y will contain the target of the 10th data sample.\n",
    "\n",
    "We split our data into training and testing sets. Shuffling is not permitted in time-series datasets. In the beginning, we take two steps worth of past data to predict the current value. Thus, the model will look at yesterday’s and today’s values to predict today’s closing price."
   ]
  },
  {
   "cell_type": "code",
   "execution_count": 107,
   "id": "378095f0",
   "metadata": {
    "ExecuteTime": {
     "end_time": "2023-11-30T20:23:51.449904Z",
     "start_time": "2023-11-30T20:23:51.432291Z"
    }
   },
   "outputs": [
    {
     "data": {
      "text/html": [
       "<div>\n",
       "<style scoped>\n",
       "    .dataframe tbody tr th:only-of-type {\n",
       "        vertical-align: middle;\n",
       "    }\n",
       "\n",
       "    .dataframe tbody tr th {\n",
       "        vertical-align: top;\n",
       "    }\n",
       "\n",
       "    .dataframe thead th {\n",
       "        text-align: right;\n",
       "    }\n",
       "</style>\n",
       "<table border=\"1\" class=\"dataframe\">\n",
       "  <thead>\n",
       "    <tr style=\"text-align: right;\">\n",
       "      <th></th>\n",
       "      <th>date</th>\n",
       "      <th>open</th>\n",
       "      <th>high</th>\n",
       "      <th>target</th>\n",
       "      <th>year</th>\n",
       "      <th>month</th>\n",
       "      <th>day</th>\n",
       "    </tr>\n",
       "  </thead>\n",
       "  <tbody>\n",
       "    <tr>\n",
       "      <th>0</th>\n",
       "      <td>2010-06-29</td>\n",
       "      <td>-0.539560</td>\n",
       "      <td>-0.534640</td>\n",
       "      <td>-0.535764</td>\n",
       "      <td>2010</td>\n",
       "      <td>6</td>\n",
       "      <td>29</td>\n",
       "    </tr>\n",
       "    <tr>\n",
       "      <th>1</th>\n",
       "      <td>2010-06-30</td>\n",
       "      <td>-0.534128</td>\n",
       "      <td>-0.530403</td>\n",
       "      <td>-0.535812</td>\n",
       "      <td>2010</td>\n",
       "      <td>6</td>\n",
       "      <td>30</td>\n",
       "    </tr>\n",
       "    <tr>\n",
       "      <th>2</th>\n",
       "      <td>2010-07-01</td>\n",
       "      <td>-0.534760</td>\n",
       "      <td>-0.533921</td>\n",
       "      <td>-0.537307</td>\n",
       "      <td>2010</td>\n",
       "      <td>7</td>\n",
       "      <td>1</td>\n",
       "    </tr>\n",
       "    <tr>\n",
       "      <th>3</th>\n",
       "      <td>2010-07-02</td>\n",
       "      <td>-0.536360</td>\n",
       "      <td>-0.536126</td>\n",
       "      <td>-0.539514</td>\n",
       "      <td>2010</td>\n",
       "      <td>7</td>\n",
       "      <td>2</td>\n",
       "    </tr>\n",
       "    <tr>\n",
       "      <th>4</th>\n",
       "      <td>2010-07-06</td>\n",
       "      <td>-0.538760</td>\n",
       "      <td>-0.538549</td>\n",
       "      <td>-0.541986</td>\n",
       "      <td>2010</td>\n",
       "      <td>7</td>\n",
       "      <td>6</td>\n",
       "    </tr>\n",
       "  </tbody>\n",
       "</table>\n",
       "</div>"
      ],
      "text/plain": [
       "        date      open      high    target  year  month  day\n",
       "0 2010-06-29 -0.539560 -0.534640 -0.535764  2010      6   29\n",
       "1 2010-06-30 -0.534128 -0.530403 -0.535812  2010      6   30\n",
       "2 2010-07-01 -0.534760 -0.533921 -0.537307  2010      7    1\n",
       "3 2010-07-02 -0.536360 -0.536126 -0.539514  2010      7    2\n",
       "4 2010-07-06 -0.538760 -0.538549 -0.541986  2010      7    6"
      ]
     },
     "execution_count": 107,
     "metadata": {},
     "output_type": "execute_result"
    }
   ],
   "source": [
    "df = pd.concat([data, pd.DataFrame(target_y, columns=['target_y'])], axis=1)\n",
    "df.rename(columns={\"target_y\": \"target\"}, inplace=True)\n",
    "\n",
    "df[\"year\"] = df[\"date\"].dt.year\n",
    "df[\"month\"] = df[\"date\"].dt.month\n",
    "df[\"day\"] = df[\"date\"].dt.day\n",
    "\n",
    "#df.drop(columns=[\"date\"], inplace=True)\n",
    "\n",
    "df.head()"
   ]
  },
  {
   "cell_type": "code",
   "execution_count": 111,
   "id": "4d72b160",
   "metadata": {
    "ExecuteTime": {
     "end_time": "2023-11-30T20:25:44.349664Z",
     "start_time": "2023-11-30T20:25:44.335628Z"
    }
   },
   "outputs": [
    {
     "name": "stderr",
     "output_type": "stream",
     "text": [
      "/var/folders/p8/gqg5wqj951j06qtpr3cpkmrr0000gr/T/ipykernel_28495/3547542704.py:10: SettingWithCopyWarning: \n",
      "A value is trying to be set on a copy of a slice from a DataFrame\n",
      "\n",
      "See the caveats in the documentation: https://pandas.pydata.org/pandas-docs/stable/user_guide/indexing.html#returning-a-view-versus-a-copy\n",
      "  train_test.drop(columns=\"date\", inplace=True)\n",
      "/var/folders/p8/gqg5wqj951j06qtpr3cpkmrr0000gr/T/ipykernel_28495/3547542704.py:11: SettingWithCopyWarning: \n",
      "A value is trying to be set on a copy of a slice from a DataFrame\n",
      "\n",
      "See the caveats in the documentation: https://pandas.pydata.org/pandas-docs/stable/user_guide/indexing.html#returning-a-view-versus-a-copy\n",
      "  validation.drop(columns=\"date\", inplace=True)\n"
     ]
    }
   ],
   "source": [
    "# Convert \"year\" to datetime\n",
    "df['date'] = pd.to_datetime(df['date'], format='%YYYY-%MM-%DD')\n",
    "\n",
    "# Split data for training and testing (2010 to 2021)\n",
    "train_test = df[(df['date'] >= '2010-01-01') & (df['date'] <= '2021-12-31')]\n",
    "\n",
    "# Split data for validation (from 2022)\n",
    "validation = df[df['date'] >= '2022-01-01']\n",
    "\n",
    "train_test.drop(columns=\"date\", inplace=True)\n",
    "validation.drop(columns=\"date\", inplace=True)"
   ]
  },
  {
   "cell_type": "code",
   "execution_count": 112,
   "id": "a38e09aa",
   "metadata": {
    "ExecuteTime": {
     "end_time": "2023-11-30T20:25:46.662623Z",
     "start_time": "2023-11-30T20:25:46.654040Z"
    }
   },
   "outputs": [
    {
     "data": {
      "text/html": [
       "<div>\n",
       "<style scoped>\n",
       "    .dataframe tbody tr th:only-of-type {\n",
       "        vertical-align: middle;\n",
       "    }\n",
       "\n",
       "    .dataframe tbody tr th {\n",
       "        vertical-align: top;\n",
       "    }\n",
       "\n",
       "    .dataframe thead th {\n",
       "        text-align: right;\n",
       "    }\n",
       "</style>\n",
       "<table border=\"1\" class=\"dataframe\">\n",
       "  <thead>\n",
       "    <tr style=\"text-align: right;\">\n",
       "      <th></th>\n",
       "      <th>open</th>\n",
       "      <th>high</th>\n",
       "      <th>target</th>\n",
       "      <th>year</th>\n",
       "      <th>month</th>\n",
       "      <th>day</th>\n",
       "    </tr>\n",
       "  </thead>\n",
       "  <tbody>\n",
       "    <tr>\n",
       "      <th>0</th>\n",
       "      <td>-0.539560</td>\n",
       "      <td>-0.534640</td>\n",
       "      <td>-0.535764</td>\n",
       "      <td>2010</td>\n",
       "      <td>6</td>\n",
       "      <td>29</td>\n",
       "    </tr>\n",
       "    <tr>\n",
       "      <th>1</th>\n",
       "      <td>-0.534128</td>\n",
       "      <td>-0.530403</td>\n",
       "      <td>-0.535812</td>\n",
       "      <td>2010</td>\n",
       "      <td>6</td>\n",
       "      <td>30</td>\n",
       "    </tr>\n",
       "    <tr>\n",
       "      <th>2</th>\n",
       "      <td>-0.534760</td>\n",
       "      <td>-0.533921</td>\n",
       "      <td>-0.537307</td>\n",
       "      <td>2010</td>\n",
       "      <td>7</td>\n",
       "      <td>1</td>\n",
       "    </tr>\n",
       "    <tr>\n",
       "      <th>3</th>\n",
       "      <td>-0.536360</td>\n",
       "      <td>-0.536126</td>\n",
       "      <td>-0.539514</td>\n",
       "      <td>2010</td>\n",
       "      <td>7</td>\n",
       "      <td>2</td>\n",
       "    </tr>\n",
       "    <tr>\n",
       "      <th>4</th>\n",
       "      <td>-0.538760</td>\n",
       "      <td>-0.538549</td>\n",
       "      <td>-0.541986</td>\n",
       "      <td>2010</td>\n",
       "      <td>7</td>\n",
       "      <td>6</td>\n",
       "    </tr>\n",
       "  </tbody>\n",
       "</table>\n",
       "</div>"
      ],
      "text/plain": [
       "       open      high    target  year  month  day\n",
       "0 -0.539560 -0.534640 -0.535764  2010      6   29\n",
       "1 -0.534128 -0.530403 -0.535812  2010      6   30\n",
       "2 -0.534760 -0.533921 -0.537307  2010      7    1\n",
       "3 -0.536360 -0.536126 -0.539514  2010      7    2\n",
       "4 -0.538760 -0.538549 -0.541986  2010      7    6"
      ]
     },
     "execution_count": 112,
     "metadata": {},
     "output_type": "execute_result"
    }
   ],
   "source": [
    "train_test.head()"
   ]
  },
  {
   "cell_type": "code",
   "execution_count": 113,
   "id": "60b2f366",
   "metadata": {
    "ExecuteTime": {
     "end_time": "2023-11-30T20:25:50.636546Z",
     "start_time": "2023-11-30T20:25:50.631904Z"
    }
   },
   "outputs": [
    {
     "data": {
      "text/plain": [
       "2022"
      ]
     },
     "execution_count": 113,
     "metadata": {},
     "output_type": "execute_result"
    }
   ],
   "source": [
    "df[\"year\"].max()"
   ]
  },
  {
   "cell_type": "code",
   "execution_count": 114,
   "id": "24a11821",
   "metadata": {
    "ExecuteTime": {
     "end_time": "2023-11-30T20:29:00.805375Z",
     "start_time": "2023-11-30T20:29:00.800247Z"
    }
   },
   "outputs": [],
   "source": [
    "# Sort the DataFrame by the 'year' column to ensure temporal order\n",
    "train_test = train_test.sort_values(by='year')\n",
    "\n",
    "# Specify the ratio for the split\n",
    "train_size = 0.8  # 80% for training, 20% for testing\n",
    "\n",
    "# Calculate the index for the split\n",
    "split_index = int(len(train_test) * train_size)\n",
    "\n",
    "# Split the data into train and test\n",
    "train = train_test.iloc[:split_index]\n",
    "test = train_test.iloc[split_index:]"
   ]
  },
  {
   "cell_type": "code",
   "execution_count": 115,
   "id": "8c237790",
   "metadata": {
    "ExecuteTime": {
     "end_time": "2023-11-30T20:29:02.119855Z",
     "start_time": "2023-11-30T20:29:02.116790Z"
    }
   },
   "outputs": [
    {
     "name": "stdout",
     "output_type": "stream",
     "text": [
      "(2319, 6) (580, 6)\n"
     ]
    }
   ],
   "source": [
    "print(train.shape, test.shape)"
   ]
  },
  {
   "cell_type": "code",
   "execution_count": 116,
   "id": "48d9155f",
   "metadata": {
    "ExecuteTime": {
     "end_time": "2023-11-30T20:29:05.172226Z",
     "start_time": "2023-11-30T20:29:05.163709Z"
    }
   },
   "outputs": [
    {
     "data": {
      "text/html": [
       "<div>\n",
       "<style scoped>\n",
       "    .dataframe tbody tr th:only-of-type {\n",
       "        vertical-align: middle;\n",
       "    }\n",
       "\n",
       "    .dataframe tbody tr th {\n",
       "        vertical-align: top;\n",
       "    }\n",
       "\n",
       "    .dataframe thead th {\n",
       "        text-align: right;\n",
       "    }\n",
       "</style>\n",
       "<table border=\"1\" class=\"dataframe\">\n",
       "  <thead>\n",
       "    <tr style=\"text-align: right;\">\n",
       "      <th></th>\n",
       "      <th>open</th>\n",
       "      <th>high</th>\n",
       "      <th>target</th>\n",
       "      <th>year</th>\n",
       "      <th>month</th>\n",
       "      <th>day</th>\n",
       "    </tr>\n",
       "  </thead>\n",
       "  <tbody>\n",
       "    <tr>\n",
       "      <th>0</th>\n",
       "      <td>-0.539560</td>\n",
       "      <td>-0.534640</td>\n",
       "      <td>-0.535764</td>\n",
       "      <td>2010</td>\n",
       "      <td>6</td>\n",
       "      <td>29</td>\n",
       "    </tr>\n",
       "    <tr>\n",
       "      <th>95</th>\n",
       "      <td>-0.531880</td>\n",
       "      <td>-0.531435</td>\n",
       "      <td>-0.532445</td>\n",
       "      <td>2010</td>\n",
       "      <td>11</td>\n",
       "      <td>11</td>\n",
       "    </tr>\n",
       "    <tr>\n",
       "      <th>94</th>\n",
       "      <td>-0.535176</td>\n",
       "      <td>-0.530755</td>\n",
       "      <td>-0.531389</td>\n",
       "      <td>2010</td>\n",
       "      <td>11</td>\n",
       "      <td>10</td>\n",
       "    </tr>\n",
       "    <tr>\n",
       "      <th>93</th>\n",
       "      <td>-0.534760</td>\n",
       "      <td>-0.534101</td>\n",
       "      <td>-0.535172</td>\n",
       "      <td>2010</td>\n",
       "      <td>11</td>\n",
       "      <td>9</td>\n",
       "    </tr>\n",
       "    <tr>\n",
       "      <th>92</th>\n",
       "      <td>-0.535160</td>\n",
       "      <td>-0.534640</td>\n",
       "      <td>-0.534892</td>\n",
       "      <td>2010</td>\n",
       "      <td>11</td>\n",
       "      <td>8</td>\n",
       "    </tr>\n",
       "  </tbody>\n",
       "</table>\n",
       "</div>"
      ],
      "text/plain": [
       "        open      high    target  year  month  day\n",
       "0  -0.539560 -0.534640 -0.535764  2010      6   29\n",
       "95 -0.531880 -0.531435 -0.532445  2010     11   11\n",
       "94 -0.535176 -0.530755 -0.531389  2010     11   10\n",
       "93 -0.534760 -0.534101 -0.535172  2010     11    9\n",
       "92 -0.535160 -0.534640 -0.534892  2010     11    8"
      ]
     },
     "execution_count": 116,
     "metadata": {},
     "output_type": "execute_result"
    }
   ],
   "source": [
    "train.head()"
   ]
  },
  {
   "cell_type": "code",
   "execution_count": 117,
   "id": "25135d30",
   "metadata": {
    "ExecuteTime": {
     "end_time": "2023-11-30T20:29:08.755184Z",
     "start_time": "2023-11-30T20:29:08.750939Z"
    }
   },
   "outputs": [
    {
     "data": {
      "text/plain": [
       "2019"
      ]
     },
     "execution_count": 117,
     "metadata": {},
     "output_type": "execute_result"
    }
   ],
   "source": [
    "train[\"year\"].max()"
   ]
  },
  {
   "cell_type": "code",
   "execution_count": 118,
   "id": "a4fc24f1",
   "metadata": {
    "ExecuteTime": {
     "end_time": "2023-11-30T20:29:09.576116Z",
     "start_time": "2023-11-30T20:29:09.571982Z"
    }
   },
   "outputs": [
    {
     "data": {
      "text/plain": [
       "2019"
      ]
     },
     "execution_count": 118,
     "metadata": {},
     "output_type": "execute_result"
    }
   ],
   "source": [
    "test[\"year\"].min()"
   ]
  },
  {
   "cell_type": "code",
   "execution_count": 119,
   "id": "7e31118c",
   "metadata": {
    "ExecuteTime": {
     "end_time": "2023-11-30T20:29:11.559037Z",
     "start_time": "2023-11-30T20:29:11.555070Z"
    }
   },
   "outputs": [
    {
     "data": {
      "text/plain": [
       "2021"
      ]
     },
     "execution_count": 119,
     "metadata": {},
     "output_type": "execute_result"
    }
   ],
   "source": [
    "test[\"year\"].max()"
   ]
  },
  {
   "cell_type": "markdown",
   "id": "00a856d7",
   "metadata": {},
   "source": [
    "To use LSTM model, we need data points from the last 5 years only. Furthermore, the training is very time-consuming."
   ]
  },
  {
   "cell_type": "code",
   "execution_count": 120,
   "id": "90e840b2",
   "metadata": {
    "ExecuteTime": {
     "end_time": "2023-11-30T20:29:46.372187Z",
     "start_time": "2023-11-30T20:29:46.368105Z"
    }
   },
   "outputs": [],
   "source": [
    "train = train[train[\"year\"] >= 2018]\n",
    "test = test[test[\"year\"] >= 2018]"
   ]
  },
  {
   "cell_type": "code",
   "execution_count": 121,
   "id": "14c1e4bd",
   "metadata": {
    "ExecuteTime": {
     "end_time": "2023-11-30T20:29:47.852526Z",
     "start_time": "2023-11-30T20:29:47.848423Z"
    }
   },
   "outputs": [
    {
     "data": {
      "text/plain": [
       "Index(['open', 'high', 'target', 'year', 'month', 'day'], dtype='object')"
      ]
     },
     "execution_count": 121,
     "metadata": {},
     "output_type": "execute_result"
    }
   ],
   "source": [
    "train.columns"
   ]
  },
  {
   "cell_type": "code",
   "execution_count": 122,
   "id": "fbc95859",
   "metadata": {
    "ExecuteTime": {
     "end_time": "2023-11-30T20:29:48.922409Z",
     "start_time": "2023-11-30T20:29:48.917480Z"
    }
   },
   "outputs": [],
   "source": [
    "X_train = train[['open', 'high', 'year', 'month', 'day']]\n",
    "X_test = test[['open', 'high', 'year', 'month', 'day']]\n",
    "\n",
    "y_train = train[\"target\"]\n",
    "y_test = test[\"target\"]"
   ]
  },
  {
   "cell_type": "markdown",
   "id": "3e7c15c5",
   "metadata": {},
   "source": [
    "# LSTM Model"
   ]
  },
  {
   "cell_type": "code",
   "execution_count": 123,
   "id": "36dcfe6e",
   "metadata": {
    "ExecuteTime": {
     "end_time": "2023-11-30T20:29:50.593061Z",
     "start_time": "2023-11-30T20:29:50.589518Z"
    }
   },
   "outputs": [],
   "source": [
    "from tensorflow.keras.models import Sequential\n",
    "from tensorflow.keras.layers import Dense, LSTM, Dropout\n",
    "from tensorflow.keras.layers import *\n",
    "\n",
    "from sklearn.metrics import mean_squared_error, mean_absolute_percentage_error\n",
    "from sklearn.model_selection import train_test_split, TimeSeriesSplit "
   ]
  },
  {
   "cell_type": "code",
   "execution_count": 125,
   "id": "2cd5b431",
   "metadata": {
    "ExecuteTime": {
     "end_time": "2023-11-30T20:30:38.402536Z",
     "start_time": "2023-11-30T20:30:38.398509Z"
    }
   },
   "outputs": [
    {
     "data": {
      "text/plain": [
       "428"
      ]
     },
     "execution_count": 125,
     "metadata": {},
     "output_type": "execute_result"
    }
   ],
   "source": [
    "# 2^n for number input layer higher than 428 :: 2^9\n",
    "X_train.shape[0]"
   ]
  },
  {
   "cell_type": "code",
   "execution_count": 126,
   "id": "9ff2c4bb",
   "metadata": {
    "ExecuteTime": {
     "end_time": "2023-11-30T20:30:42.778422Z",
     "start_time": "2023-11-30T20:30:42.770587Z"
    }
   },
   "outputs": [],
   "source": [
    "def create_dataset(dataset, time_steps=1):\n",
    "    dataX, dataY = [], []\n",
    "    for i in range(len(dataset) - time_steps):\n",
    "        a = dataset[i:(i + time_steps), 0]\n",
    "        dataX.append(a)\n",
    "        dataY.append(dataset[i + time_steps, 0])\n",
    "    return np.array(dataX), np.array(dataY)\n",
    "\n",
    "time_steps = 2  # experiment with this value\n",
    "X_train, y_train = create_dataset(train.values, time_steps)\n",
    "X_test, y_test = create_dataset(test.values, time_steps)\n",
    "\n",
    "# Reshape to (samples, time steps, features)\n",
    "X_train = np.reshape(X_train, (X_train.shape[0], X_train.shape[1], 1))\n",
    "X_test = np.reshape(X_test, (X_test.shape[0], X_test.shape[1], 1))"
   ]
  },
  {
   "cell_type": "code",
   "execution_count": 127,
   "id": "d8901e90",
   "metadata": {
    "ExecuteTime": {
     "end_time": "2023-11-30T20:30:49.943763Z",
     "start_time": "2023-11-30T20:30:49.581144Z"
    }
   },
   "outputs": [],
   "source": [
    "# instantiate model\n",
    "model = Sequential()\n",
    "\n",
    "# first layer :: 2^12 neurons :: first 2^n value higher than 473\n",
    "model.add(LSTM(units=512, input_shape=(X_train.shape[1], 1)))\n",
    "\n",
    "# last layer :: only 1 target variable\n",
    "model.add(Dense(units=1))\n",
    "\n",
    "# error evaluation\n",
    "model.compile(optimizer='adam', loss='mean_squared_error')"
   ]
  },
  {
   "cell_type": "code",
   "execution_count": 128,
   "id": "749b1867",
   "metadata": {
    "ExecuteTime": {
     "end_time": "2023-11-30T20:30:50.531682Z",
     "start_time": "2023-11-30T20:30:50.521257Z"
    }
   },
   "outputs": [
    {
     "name": "stdout",
     "output_type": "stream",
     "text": [
      "Model: \"sequential_2\"\n",
      "_________________________________________________________________\n",
      " Layer (type)                Output Shape              Param #   \n",
      "=================================================================\n",
      " lstm_2 (LSTM)               (None, 512)               1052672   \n",
      "                                                                 \n",
      " dense_2 (Dense)             (None, 1)                 513       \n",
      "                                                                 \n",
      "=================================================================\n",
      "Total params: 1,053,185\n",
      "Trainable params: 1,053,185\n",
      "Non-trainable params: 0\n",
      "_________________________________________________________________\n"
     ]
    }
   ],
   "source": [
    "# Displaying a summary of the model architecture\n",
    "model.summary()"
   ]
  },
  {
   "cell_type": "code",
   "execution_count": 129,
   "id": "400874ce",
   "metadata": {
    "ExecuteTime": {
     "end_time": "2023-11-30T20:33:04.850580Z",
     "start_time": "2023-11-30T20:30:53.040566Z"
    }
   },
   "outputs": [
    {
     "name": "stdout",
     "output_type": "stream",
     "text": [
      "Epoch 1/100\n",
      "107/107 [==============================] - 3s 13ms/step - loss: 0.0055\n",
      "Epoch 2/100\n",
      "107/107 [==============================] - 1s 12ms/step - loss: 7.5194e-04\n",
      "Epoch 3/100\n",
      "107/107 [==============================] - 1s 12ms/step - loss: 7.7424e-04\n",
      "Epoch 4/100\n",
      "107/107 [==============================] - 1s 12ms/step - loss: 7.7120e-04\n",
      "Epoch 5/100\n",
      "107/107 [==============================] - 1s 12ms/step - loss: 7.7022e-04\n",
      "Epoch 6/100\n",
      "107/107 [==============================] - 1s 12ms/step - loss: 7.6810e-04\n",
      "Epoch 7/100\n",
      "107/107 [==============================] - 1s 12ms/step - loss: 7.6516e-04\n",
      "Epoch 8/100\n",
      "107/107 [==============================] - 1s 12ms/step - loss: 7.6217e-04\n",
      "Epoch 9/100\n",
      "107/107 [==============================] - 1s 12ms/step - loss: 7.5964e-04\n",
      "Epoch 10/100\n",
      "107/107 [==============================] - 1s 12ms/step - loss: 7.5781e-04\n",
      "Epoch 11/100\n",
      "107/107 [==============================] - 1s 12ms/step - loss: 7.5689e-04\n",
      "Epoch 12/100\n",
      "107/107 [==============================] - 1s 13ms/step - loss: 7.5635e-04\n",
      "Epoch 13/100\n",
      "107/107 [==============================] - 1s 12ms/step - loss: 7.5592e-04\n",
      "Epoch 14/100\n",
      "107/107 [==============================] - 1s 12ms/step - loss: 7.5983e-04\n",
      "Epoch 15/100\n",
      "107/107 [==============================] - 1s 13ms/step - loss: 7.6268e-04\n",
      "Epoch 16/100\n",
      "107/107 [==============================] - 1s 13ms/step - loss: 7.6414e-04\n",
      "Epoch 17/100\n",
      "107/107 [==============================] - 1s 13ms/step - loss: 7.6675e-04\n",
      "Epoch 18/100\n",
      "107/107 [==============================] - 1s 13ms/step - loss: 7.6781e-04\n",
      "Epoch 19/100\n",
      "107/107 [==============================] - 1s 12ms/step - loss: 7.6747e-04\n",
      "Epoch 20/100\n",
      "107/107 [==============================] - 1s 13ms/step - loss: 7.6647e-04\n",
      "Epoch 21/100\n",
      "107/107 [==============================] - 1s 13ms/step - loss: 7.6522e-04\n",
      "Epoch 22/100\n",
      "107/107 [==============================] - 1s 13ms/step - loss: 7.6358e-04\n",
      "Epoch 23/100\n",
      "107/107 [==============================] - 1s 13ms/step - loss: 7.5676e-04\n",
      "Epoch 24/100\n",
      "107/107 [==============================] - 1s 13ms/step - loss: 7.5213e-04\n",
      "Epoch 25/100\n",
      "107/107 [==============================] - 1s 12ms/step - loss: 7.4392e-04\n",
      "Epoch 26/100\n",
      "107/107 [==============================] - 1s 12ms/step - loss: 7.4008e-04\n",
      "Epoch 27/100\n",
      "107/107 [==============================] - 1s 13ms/step - loss: 7.3129e-04\n",
      "Epoch 28/100\n",
      "107/107 [==============================] - 1s 13ms/step - loss: 7.2528e-04\n",
      "Epoch 29/100\n",
      "107/107 [==============================] - 1s 12ms/step - loss: 7.2053e-04\n",
      "Epoch 30/100\n",
      "107/107 [==============================] - 1s 13ms/step - loss: 7.1578e-04\n",
      "Epoch 31/100\n",
      "107/107 [==============================] - 1s 13ms/step - loss: 7.1009e-04\n",
      "Epoch 32/100\n",
      "107/107 [==============================] - 1s 13ms/step - loss: 7.0373e-04\n",
      "Epoch 33/100\n",
      "107/107 [==============================] - 1s 13ms/step - loss: 7.0152e-04\n",
      "Epoch 34/100\n",
      "107/107 [==============================] - 1s 13ms/step - loss: 6.9496e-04\n",
      "Epoch 35/100\n",
      "107/107 [==============================] - 1s 13ms/step - loss: 6.9070e-04\n",
      "Epoch 36/100\n",
      "107/107 [==============================] - 1s 13ms/step - loss: 6.8547e-04\n",
      "Epoch 37/100\n",
      "107/107 [==============================] - 1s 13ms/step - loss: 6.8086e-04\n",
      "Epoch 38/100\n",
      "107/107 [==============================] - 1s 13ms/step - loss: 6.7941e-04\n",
      "Epoch 39/100\n",
      "107/107 [==============================] - 1s 13ms/step - loss: 6.7245e-04\n",
      "Epoch 40/100\n",
      "107/107 [==============================] - 1s 13ms/step - loss: 6.6816e-04\n",
      "Epoch 41/100\n",
      "107/107 [==============================] - 1s 13ms/step - loss: 6.6408e-04\n",
      "Epoch 42/100\n",
      "107/107 [==============================] - 1s 13ms/step - loss: 6.6363e-04\n",
      "Epoch 43/100\n",
      "107/107 [==============================] - 1s 13ms/step - loss: 6.6385e-04\n",
      "Epoch 44/100\n",
      "107/107 [==============================] - 1s 13ms/step - loss: 6.5904e-04\n",
      "Epoch 45/100\n",
      "107/107 [==============================] - 1s 13ms/step - loss: 6.5588e-04\n",
      "Epoch 46/100\n",
      "107/107 [==============================] - 1s 13ms/step - loss: 6.5187e-04\n",
      "Epoch 47/100\n",
      "107/107 [==============================] - 1s 13ms/step - loss: 6.5327e-04\n",
      "Epoch 48/100\n",
      "107/107 [==============================] - 1s 13ms/step - loss: 6.5956e-04\n",
      "Epoch 49/100\n",
      "107/107 [==============================] - 1s 13ms/step - loss: 6.5901e-04\n",
      "Epoch 50/100\n",
      "107/107 [==============================] - 1s 13ms/step - loss: 6.6317e-04\n",
      "Epoch 51/100\n",
      "107/107 [==============================] - 1s 13ms/step - loss: 6.6465e-04\n",
      "Epoch 52/100\n",
      "107/107 [==============================] - 1s 13ms/step - loss: 6.4892e-04\n",
      "Epoch 53/100\n",
      "107/107 [==============================] - 1s 12ms/step - loss: 6.3565e-04\n",
      "Epoch 54/100\n",
      "107/107 [==============================] - 1s 12ms/step - loss: 6.2292e-04\n",
      "Epoch 55/100\n",
      "107/107 [==============================] - 1s 12ms/step - loss: 6.1825e-04\n",
      "Epoch 56/100\n",
      "107/107 [==============================] - 1s 12ms/step - loss: 6.1871e-04\n",
      "Epoch 57/100\n",
      "107/107 [==============================] - 1s 12ms/step - loss: 6.1706e-04\n",
      "Epoch 58/100\n",
      "107/107 [==============================] - 1s 12ms/step - loss: 6.1787e-04\n",
      "Epoch 59/100\n",
      "107/107 [==============================] - 1s 12ms/step - loss: 6.2207e-04\n",
      "Epoch 60/100\n",
      "107/107 [==============================] - 1s 12ms/step - loss: 6.2833e-04\n",
      "Epoch 61/100\n",
      "107/107 [==============================] - 1s 12ms/step - loss: 6.4197e-04\n",
      "Epoch 62/100\n",
      "107/107 [==============================] - 1s 12ms/step - loss: 6.4173e-04\n",
      "Epoch 63/100\n",
      "107/107 [==============================] - 1s 12ms/step - loss: 6.3560e-04\n",
      "Epoch 64/100\n",
      "107/107 [==============================] - 1s 12ms/step - loss: 6.2615e-04\n",
      "Epoch 65/100\n",
      "107/107 [==============================] - 1s 12ms/step - loss: 6.0986e-04\n",
      "Epoch 66/100\n",
      "107/107 [==============================] - 1s 12ms/step - loss: 6.0392e-04\n",
      "Epoch 67/100\n",
      "107/107 [==============================] - 1s 12ms/step - loss: 5.9807e-04\n",
      "Epoch 68/100\n",
      "107/107 [==============================] - 1s 12ms/step - loss: 6.0078e-04\n",
      "Epoch 69/100\n",
      "107/107 [==============================] - 1s 12ms/step - loss: 6.0058e-04\n",
      "Epoch 70/100\n",
      "107/107 [==============================] - 1s 12ms/step - loss: 6.0578e-04\n",
      "Epoch 71/100\n",
      "107/107 [==============================] - 1s 12ms/step - loss: 6.1123e-04\n",
      "Epoch 72/100\n",
      "107/107 [==============================] - 1s 11ms/step - loss: 6.1284e-04\n",
      "Epoch 73/100\n",
      "107/107 [==============================] - 1s 12ms/step - loss: 6.0851e-04\n",
      "Epoch 74/100\n",
      "107/107 [==============================] - 1s 12ms/step - loss: 6.0232e-04\n",
      "Epoch 75/100\n",
      "107/107 [==============================] - 1s 12ms/step - loss: 5.9419e-04\n",
      "Epoch 76/100\n",
      "107/107 [==============================] - 1s 12ms/step - loss: 5.8720e-04\n",
      "Epoch 77/100\n",
      "107/107 [==============================] - 1s 12ms/step - loss: 5.8292e-04\n",
      "Epoch 78/100\n",
      "107/107 [==============================] - 1s 12ms/step - loss: 5.8544e-04\n",
      "Epoch 79/100\n",
      "107/107 [==============================] - 1s 12ms/step - loss: 5.8998e-04\n",
      "Epoch 80/100\n",
      "107/107 [==============================] - 1s 12ms/step - loss: 5.9835e-04\n",
      "Epoch 81/100\n",
      "107/107 [==============================] - 1s 12ms/step - loss: 5.9775e-04\n",
      "Epoch 82/100\n",
      "107/107 [==============================] - 1s 12ms/step - loss: 5.9620e-04\n",
      "Epoch 83/100\n",
      "107/107 [==============================] - 1s 12ms/step - loss: 5.8374e-04\n",
      "Epoch 84/100\n",
      "107/107 [==============================] - 1s 12ms/step - loss: 5.7648e-04\n",
      "Epoch 85/100\n",
      "107/107 [==============================] - 1s 12ms/step - loss: 5.7344e-04\n",
      "Epoch 86/100\n",
      "107/107 [==============================] - 1s 12ms/step - loss: 5.7576e-04\n",
      "Epoch 87/100\n",
      "107/107 [==============================] - 1s 12ms/step - loss: 5.7888e-04\n",
      "Epoch 88/100\n",
      "107/107 [==============================] - 1s 12ms/step - loss: 5.8290e-04\n",
      "Epoch 89/100\n",
      "107/107 [==============================] - 1s 12ms/step - loss: 5.8407e-04\n",
      "Epoch 90/100\n",
      "107/107 [==============================] - 1s 12ms/step - loss: 5.7983e-04\n",
      "Epoch 91/100\n",
      "107/107 [==============================] - 1s 12ms/step - loss: 5.7567e-04\n",
      "Epoch 92/100\n",
      "107/107 [==============================] - 1s 12ms/step - loss: 5.6774e-04\n",
      "Epoch 93/100\n",
      "107/107 [==============================] - 1s 12ms/step - loss: 5.6694e-04\n",
      "Epoch 94/100\n"
     ]
    },
    {
     "name": "stdout",
     "output_type": "stream",
     "text": [
      "107/107 [==============================] - 1s 11ms/step - loss: 5.6723e-04\n",
      "Epoch 95/100\n",
      "107/107 [==============================] - 1s 11ms/step - loss: 5.6720e-04\n",
      "Epoch 96/100\n",
      "107/107 [==============================] - 1s 11ms/step - loss: 5.6691e-04\n",
      "Epoch 97/100\n",
      "107/107 [==============================] - 1s 11ms/step - loss: 5.6704e-04\n",
      "Epoch 98/100\n",
      "107/107 [==============================] - 1s 11ms/step - loss: 5.6794e-04\n",
      "Epoch 99/100\n",
      "107/107 [==============================] - 1s 11ms/step - loss: 5.6654e-04\n",
      "Epoch 100/100\n",
      "107/107 [==============================] - 1s 11ms/step - loss: 5.6220e-04\n"
     ]
    },
    {
     "data": {
      "text/plain": [
       "<keras.callbacks.History at 0x7f81d850e9a0>"
      ]
     },
     "execution_count": 129,
     "metadata": {},
     "output_type": "execute_result"
    }
   ],
   "source": [
    "model.fit(X_train, y_train, epochs=100, batch_size=4, verbose=1, shuffle=False)"
   ]
  },
  {
   "cell_type": "markdown",
   "id": "6e7ff821",
   "metadata": {},
   "source": [
    "# Prediction"
   ]
  },
  {
   "cell_type": "code",
   "execution_count": 130,
   "id": "0772621b",
   "metadata": {
    "ExecuteTime": {
     "end_time": "2023-11-30T20:36:07.442171Z",
     "start_time": "2023-11-30T20:36:07.048547Z"
    }
   },
   "outputs": [
    {
     "name": "stdout",
     "output_type": "stream",
     "text": [
      "19/19 [==============================] - 0s 4ms/step\n"
     ]
    }
   ],
   "source": [
    "predictions = model.predict(X_test)"
   ]
  },
  {
   "cell_type": "markdown",
   "id": "6387e58c",
   "metadata": {},
   "source": [
    "# Test"
   ]
  },
  {
   "cell_type": "code",
   "execution_count": 131,
   "id": "2e916f62",
   "metadata": {
    "ExecuteTime": {
     "end_time": "2023-11-30T20:36:08.709130Z",
     "start_time": "2023-11-30T20:36:08.704221Z"
    }
   },
   "outputs": [
    {
     "name": "stdout",
     "output_type": "stream",
     "text": [
      "RMSE: 0.382449997113011\n",
      "MAPE: 0.5554990369086182\n"
     ]
    }
   ],
   "source": [
    "# Calculate performance metrics\n",
    "rmse = mean_squared_error(y_test, predictions, squared=False)\n",
    "mape = mean_absolute_percentage_error(y_test, predictions)\n",
    "\n",
    "# Print the metrics\n",
    "print(f\"RMSE: {rmse}\")\n",
    "print(f\"MAPE: {mape}\")"
   ]
  },
  {
   "cell_type": "code",
   "execution_count": 132,
   "id": "24c572dc",
   "metadata": {
    "ExecuteTime": {
     "end_time": "2023-11-30T20:36:11.991920Z",
     "start_time": "2023-11-30T20:36:11.829539Z"
    }
   },
   "outputs": [
    {
     "data": {
      "image/png": "[encoded data removed]",
      "text/plain": [
       "<Figure size 1500x700 with 1 Axes>"
      ]
     },
     "metadata": {},
     "output_type": "display_data"
    }
   ],
   "source": [
    "plt.figure(figsize=(15, 7))\n",
    "\n",
    "plt.plot(y_test, label='Actual')\n",
    "plt.plot(predictions, label='Predicted')\n",
    "plt.xlabel(\"Transformed Date\")\n",
    "plt.ylabel(\"Scaled Price\")\n",
    "plt.legend()\n",
    "plt.gcf().autofmt_xdate()\n",
    "plt.show()"
   ]
  },
  {
   "cell_type": "markdown",
   "id": "03cb3d19",
   "metadata": {},
   "source": [
    "# Validation"
   ]
  },
  {
   "cell_type": "code",
   "execution_count": 143,
   "id": "4a2673ad",
   "metadata": {
    "ExecuteTime": {
     "end_time": "2023-11-30T20:49:27.937208Z",
     "start_time": "2023-11-30T20:49:27.928637Z"
    }
   },
   "outputs": [
    {
     "data": {
      "text/html": [
       "<div>\n",
       "<style scoped>\n",
       "    .dataframe tbody tr th:only-of-type {\n",
       "        vertical-align: middle;\n",
       "    }\n",
       "\n",
       "    .dataframe tbody tr th {\n",
       "        vertical-align: top;\n",
       "    }\n",
       "\n",
       "    .dataframe thead th {\n",
       "        text-align: right;\n",
       "    }\n",
       "</style>\n",
       "<table border=\"1\" class=\"dataframe\">\n",
       "  <thead>\n",
       "    <tr style=\"text-align: right;\">\n",
       "      <th></th>\n",
       "      <th>open</th>\n",
       "      <th>high</th>\n",
       "      <th>target</th>\n",
       "      <th>year</th>\n",
       "      <th>month</th>\n",
       "      <th>day</th>\n",
       "    </tr>\n",
       "  </thead>\n",
       "  <tbody>\n",
       "    <tr>\n",
       "      <th>2899</th>\n",
       "      <td>4.036194</td>\n",
       "      <td>4.140796</td>\n",
       "      <td>4.242700</td>\n",
       "      <td>2022</td>\n",
       "      <td>1</td>\n",
       "      <td>3</td>\n",
       "    </tr>\n",
       "    <tr>\n",
       "      <th>2900</th>\n",
       "      <td>4.203392</td>\n",
       "      <td>4.167886</td>\n",
       "      <td>4.042005</td>\n",
       "      <td>2022</td>\n",
       "      <td>1</td>\n",
       "      <td>4</td>\n",
       "    </tr>\n",
       "    <tr>\n",
       "      <th>2901</th>\n",
       "      <td>4.031794</td>\n",
       "      <td>4.020673</td>\n",
       "      <td>3.796204</td>\n",
       "      <td>2022</td>\n",
       "      <td>1</td>\n",
       "      <td>5</td>\n",
       "    </tr>\n",
       "    <tr>\n",
       "      <th>2902</th>\n",
       "      <td>3.753197</td>\n",
       "      <td>3.698806</td>\n",
       "      <td>3.702554</td>\n",
       "      <td>2022</td>\n",
       "      <td>1</td>\n",
       "      <td>6</td>\n",
       "    </tr>\n",
       "    <tr>\n",
       "      <th>2903</th>\n",
       "      <td>3.766677</td>\n",
       "      <td>3.671170</td>\n",
       "      <td>3.551643</td>\n",
       "      <td>2022</td>\n",
       "      <td>1</td>\n",
       "      <td>7</td>\n",
       "    </tr>\n",
       "  </tbody>\n",
       "</table>\n",
       "</div>"
      ],
      "text/plain": [
       "          open      high    target  year  month  day\n",
       "2899  4.036194  4.140796  4.242700  2022      1    3\n",
       "2900  4.203392  4.167886  4.042005  2022      1    4\n",
       "2901  4.031794  4.020673  3.796204  2022      1    5\n",
       "2902  3.753197  3.698806  3.702554  2022      1    6\n",
       "2903  3.766677  3.671170  3.551643  2022      1    7"
      ]
     },
     "execution_count": 143,
     "metadata": {},
     "output_type": "execute_result"
    }
   ],
   "source": [
    "validation.head()"
   ]
  },
  {
   "cell_type": "code",
   "execution_count": 151,
   "id": "94d68c5d",
   "metadata": {
    "ExecuteTime": {
     "end_time": "2023-11-30T21:00:08.240973Z",
     "start_time": "2023-11-30T21:00:08.236133Z"
    }
   },
   "outputs": [],
   "source": [
    "val = validation[[\"open\", \"high\", \"year\", \"month\", \"day\"]].copy()\n",
    "\n",
    "val = np.array(val.values)\n",
    "val = np.reshape(val, (val.shape[0], val.shape[1], 1))"
   ]
  },
  {
   "cell_type": "code",
   "execution_count": 152,
   "id": "edd562e8",
   "metadata": {
    "ExecuteTime": {
     "end_time": "2023-11-30T21:00:10.467076Z",
     "start_time": "2023-11-30T21:00:10.139131Z"
    }
   },
   "outputs": [
    {
     "name": "stdout",
     "output_type": "stream",
     "text": [
      "2/2 [==============================] - 0s 6ms/step\n"
     ]
    }
   ],
   "source": [
    "pred = model.predict(val)"
   ]
  },
  {
   "cell_type": "code",
   "execution_count": 163,
   "id": "09a9f8f7",
   "metadata": {
    "ExecuteTime": {
     "end_time": "2023-11-30T21:07:50.317212Z",
     "start_time": "2023-11-30T21:07:50.314084Z"
    }
   },
   "outputs": [],
   "source": [
    "val = validation[\"target\"].copy()\n",
    "\n",
    "val = np.array(val.values)"
   ]
  },
  {
   "cell_type": "code",
   "execution_count": 165,
   "id": "5c947984",
   "metadata": {
    "ExecuteTime": {
     "end_time": "2023-11-30T21:08:02.642806Z",
     "start_time": "2023-11-30T21:08:02.637831Z"
    }
   },
   "outputs": [
    {
     "name": "stdout",
     "output_type": "stream",
     "text": [
      "RMSE: 1.928436307219258\n",
      "MAPE: 0.5968569106868922\n"
     ]
    }
   ],
   "source": [
    "# Calculate performance metrics\n",
    "rmse = mean_squared_error(val, pred, squared=False)\n",
    "mape = mean_absolute_percentage_error(val, pred)\n",
    "\n",
    "# Print the metrics\n",
    "print(f\"RMSE: {rmse}\")\n",
    "print(f\"MAPE: {mape}\")"
   ]
  },
  {
   "cell_type": "code",
   "execution_count": 166,
   "id": "a86b2672",
   "metadata": {
    "ExecuteTime": {
     "end_time": "2023-11-30T21:08:11.824992Z",
     "start_time": "2023-11-30T21:08:11.663424Z"
    }
   },
   "outputs": [
    {
     "data": {
      "image/png": "[encoded data removed]",
      "text/plain": [
       "<Figure size 1500x700 with 1 Axes>"
      ]
     },
     "metadata": {},
     "output_type": "display_data"
    }
   ],
   "source": [
    "plt.figure(figsize=(15, 7))\n",
    "\n",
    "plt.plot(val, label='Actual')\n",
    "plt.plot(pred, label='Predicted')\n",
    "plt.xlabel(\"Transformed Date\")\n",
    "plt.ylabel(\"Scaled Price\")\n",
    "plt.legend()\n",
    "plt.gcf().autofmt_xdate()\n",
    "plt.show()"
   ]
  },
  {
   "cell_type": "code",
   "execution_count": null,
   "id": "39eeea07",
   "metadata": {},
   "outputs": [],
   "source": []
  }
 ],
 "metadata": {
  "kernelspec": {
   "display_name": "Python 3 (ipykernel)",
   "language": "python",
   "name": "python3"
  },
  "language_info": {
   "codemirror_mode": {
    "name": "ipython",
    "version": 3
   },
   "file_extension": ".py",
   "mimetype": "text/x-python",
   "name": "python",
   "nbconvert_exporter": "python",
   "pygments_lexer": "ipython3",
   "version": "3.9.13"
  }
 },
 "nbformat": 4,
 "nbformat_minor": 5
}
